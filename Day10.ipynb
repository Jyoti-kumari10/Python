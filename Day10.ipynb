{
 "cells": [
  {
   "cell_type": "code",
   "execution_count": 4,
   "id": "499a5115-139d-436e-894b-07a393b8a0a3",
   "metadata": {},
   "outputs": [],
   "source": [
    "import pandas as pd\n",
    "import numpy as np"
   ]
  },
  {
   "cell_type": "code",
   "execution_count": 5,
   "id": "dd999345-b441-48f4-be98-a6e3215063a1",
   "metadata": {},
   "outputs": [
    {
     "name": "stdout",
     "output_type": "stream",
     "text": [
      "   Week1  Week2  Week3  Week4\n",
      "0   30.0   32.0   29.0   30.3\n",
      "1   32.0   31.5   31.7   32.1\n",
      "2   34.5   30.5   32.7   34.3\n",
      "3   32.1   32.5   34.1   31.1\n",
      "4   30.2   30.9   31.2   31.2\n"
     ]
    }
   ],
   "source": [
    "# creating a dataframe\n",
    "raw_data = {'Week1':[30,32,34.5, 32.1, 30.2], \n",
    "            'Week2':[32.0,31.5,30.5,32.5,30.9], \n",
    "            'Week3':[29,31.7,32.7,34.1,31.2],\n",
    "            'Week4':[30.3,32.1,34.3,31.1,31.2]}\n",
    "\n",
    "month = pd.DataFrame(raw_data,columns = ['Week1', 'Week2','Week3','Week4'])\n",
    "print(month)"
   ]
  },
  {
   "cell_type": "code",
   "execution_count": 6,
   "id": "ac67f1c7-d098-4373-ab0b-7a2beb0bdb92",
   "metadata": {},
   "outputs": [
    {
     "name": "stdout",
     "output_type": "stream",
     "text": [
      "-----------------------------------------------------\n",
      "   Week1  Week2  Week3  Week4\n",
      "0   30.0   32.0   29.0   30.3\n",
      "1   32.0   31.5   31.7   32.1\n",
      "2   34.5   30.5   32.7   34.3\n",
      "3   32.1   32.5   34.1   31.1\n",
      "4   30.2   30.9   31.2   31.2\n",
      "------------------------------------------------------\n",
      "   Week1  Week2  Week3  Week4\n",
      "2   34.5   30.5   32.7   34.3\n",
      "3   32.1   32.5   34.1   31.1\n",
      "4   30.2   30.9   31.2   31.2\n",
      "-----------------------------------------------------\n"
     ]
    }
   ],
   "source": [
    "print(\"-----------------------------------------------------\")\n",
    "print(month.head()) # display first five (by default)\n",
    "print(\"------------------------------------------------------\")\n",
    "print(month.tail(3))\n",
    "print(\"-----------------------------------------------------\")"
   ]
  },
  {
   "cell_type": "code",
   "execution_count": 23,
   "id": "ed270cde-8b23-4ae5-97f6-46e53fd1eea3",
   "metadata": {},
   "outputs": [
    {
     "name": "stdout",
     "output_type": "stream",
     "text": [
      "   Week1  Week2  Week3  Week4\n",
      "0   30.0   32.0   29.0   30.3\n",
      "1   32.0   31.5   31.7   32.1\n",
      "2   34.5   30.5   32.7   34.3\n",
      "3   32.1   32.5   34.1   31.1\n",
      "4   30.2   30.9   31.2   31.2\n",
      "0    30.0\n",
      "1    32.0\n",
      "2    34.5\n",
      "Name: Week1, dtype: float64\n",
      "-----------------------------------------------------\n",
      "31.8\n",
      "-----------------------------------------------------\n",
      "0    32.0\n",
      "1    31.5\n",
      "2    30.5\n",
      "3    32.5\n",
      "4    30.9\n",
      "Name: Week2, dtype: float64\n",
      "   Week3  Week4\n",
      "0   29.0   30.3\n",
      "1   31.7   32.1\n",
      "2   32.7   34.3\n",
      "3   34.1   31.1\n",
      "4   31.2   31.2\n",
      "-----------------------------------------------------\n",
      "Week3    31.74\n",
      "Week4    31.80\n",
      "dtype: float64\n",
      "-----------------------------------------------------\n"
     ]
    }
   ],
   "source": [
    "#Selecting columns of dataframe\n",
    "print(month)\n",
    "print(month.Week1.head(3)) # 1st column of df\n",
    "print(\"-----------------------------------------------------\")\n",
    "print(month['Week4'].mean()) # alternative way of selecting the column\n",
    "print(\"-----------------------------------------------------\")\n",
    "print(month.Week2) # whole cloumn selected \n",
    "print(month[['Week3','Week4']]) #selecting multiple columns \n",
    "print(\"-----------------------------------------------------\")\n",
    "print(month[['Week3','Week4']].mean() )\n",
    "print(\"-----------------------------------------------------\")"
   ]
  },
  {
   "cell_type": "code",
   "execution_count": 9,
   "id": "090ef6ce-1e0f-4488-8d34-0f2abd4863dd",
   "metadata": {},
   "outputs": [
    {
     "name": "stdout",
     "output_type": "stream",
     "text": [
      "         Q1   Q2   Q3   Q4\n",
      "Entry1  120   80  150  100\n",
      "Entry2  200  180  150  120\n",
      "Entry3  175  175  200  130\n"
     ]
    }
   ],
   "source": [
    "#create a dataframe\n",
    "raw_data = {'Q1':[120,200,175],\n",
    "            'Q2':[80,180,175],\n",
    "            'Q3':[150,150,200],\n",
    "            'Q4':[100,120,130]}\n",
    "quartely_sales = pd.DataFrame(raw_data, index=['Entry1','Entry2','Entry3'])\n",
    "print (quartely_sales)"
   ]
  },
  {
   "cell_type": "code",
   "execution_count": 10,
   "id": "564690e4-c193-4cbf-b582-3061eb8f08b0",
   "metadata": {},
   "outputs": [
    {
     "name": "stdout",
     "output_type": "stream",
     "text": [
      "Q1    120\n",
      "Q2     80\n",
      "Q3    150\n",
      "Q4    100\n",
      "Name: Entry1, dtype: int64\n",
      "<class 'pandas.core.series.Series'>\n",
      "         Q1   Q2   Q3   Q4\n",
      "Entry2  200  180  150  120\n",
      "Entry3  175  175  200  130\n"
     ]
    }
   ],
   "source": [
    "print (quartely_sales.loc['Entry1']) #selecting a single row\n",
    "print(type(quartely_sales.loc['Entry1']))\n",
    "print (quartely_sales.iloc[1:3]) #selecting multiple rows"
   ]
  },
  {
   "cell_type": "code",
   "execution_count": 12,
   "id": "547def28-6a92-401c-8631-f274cd0f4d76",
   "metadata": {},
   "outputs": [],
   "source": [
    "data = {\n",
    "    'A': [1, 2, 3, 4, 5],\n",
    "    'B': [10, 20, 30, 40, 50],\n",
    "    'C': [100, 200, 300, 400, 500]\n",
    "}\n",
    "\n",
    "df = pd.DataFrame(data)"
   ]
  },
  {
   "cell_type": "code",
   "execution_count": 13,
   "id": "bda2051a-5ace-438f-a534-47213d58b8d3",
   "metadata": {},
   "outputs": [
    {
     "name": "stdout",
     "output_type": "stream",
     "text": [
      "   A   B    C\n",
      "0  1  10  100\n",
      "1  2  20  200\n",
      "2  3  30  300\n",
      "3  4  40  400\n",
      "4  5  50  500\n",
      "-----------------------------------------------------\n",
      "A      3\n",
      "B     30\n",
      "C    300\n",
      "Name: 2, dtype: int64\n",
      "-----------------------------------------------------\n",
      "0    10\n",
      "1    20\n",
      "2    30\n",
      "3    40\n",
      "4    50\n",
      "Name: B, dtype: int64\n",
      "-----------------------------------------------------\n",
      "   A   B\n",
      "1  2  20\n",
      "2  3  30\n",
      "3  4  40\n",
      "-----------------------------------------------------\n",
      "   A    C\n",
      "0  1  100\n",
      "2  3  300\n",
      "4  5  500\n",
      "-----------------------------------------------------\n"
     ]
    }
   ],
   "source": [
    "print(df)\n",
    "print(\"-----------------------------------------------------\")\n",
    "print(df.iloc[2])  # Selects the third row\n",
    "print(\"-----------------------------------------------------\")\n",
    "print(df.iloc[:, 1])  # Selects the second column\n",
    "print(\"-----------------------------------------------------\")\n",
    "print(df.iloc[1:4, 0:2])  # Selects rows 1 to 3 and columns 0 to 1\n",
    "print(\"-----------------------------------------------------\")\n",
    "print(df.iloc[[0, 2, 4], [0, 2]])  # Selects rows 0, 2, 4 and columns 0, 2\n",
    "print(\"-----------------------------------------------------\")"
   ]
  },
  {
   "cell_type": "code",
   "execution_count": 14,
   "id": "06b582e0-6478-4dc3-a407-0227ebefb682",
   "metadata": {},
   "outputs": [
    {
     "name": "stdout",
     "output_type": "stream",
     "text": [
      "         Q1   Q2   Q3   Q4\n",
      "Entry1  120   80  150  100\n",
      "Entry2  200  180  150  120\n",
      "Entry3  175  175  200  130\n",
      "         Q1   Q2   Q3   Q4  Aunnal_sales\n",
      "Entry1  120   80  150  100           450\n",
      "Entry2  200  180  150  120           650\n",
      "Entry3  175  175  200  130           680\n"
     ]
    }
   ],
   "source": [
    "#adding and removing columns \n",
    "print(quartely_sales)\n",
    "quartely_sales['Aunnal_sales'] = quartely_sales['Q1']+quartely_sales['Q2']+quartely_sales['Q3']+quartely_sales['Q4']\n",
    "print (quartely_sales)"
   ]
  },
  {
   "cell_type": "code",
   "execution_count": 25,
   "id": "c11907a8-597a-49a8-91f5-7320173e6573",
   "metadata": {},
   "outputs": [
    {
     "ename": "KeyError",
     "evalue": "\"['Aunnal_sales'] not found in axis\"",
     "output_type": "error",
     "traceback": [
      "\u001b[1;31m---------------------------------------------------------------------------\u001b[0m",
      "\u001b[1;31mKeyError\u001b[0m                                  Traceback (most recent call last)",
      "Cell \u001b[1;32mIn[25], line 2\u001b[0m\n\u001b[0;32m      1\u001b[0m \u001b[38;5;66;03m#dropping a col\u001b[39;00m\n\u001b[1;32m----> 2\u001b[0m s \u001b[38;5;241m=\u001b[39m quartely_sales\u001b[38;5;241m.\u001b[39mdrop([\u001b[38;5;124m'\u001b[39m\u001b[38;5;124mAunnal_sales\u001b[39m\u001b[38;5;124m'\u001b[39m], axis \u001b[38;5;241m=\u001b[39m \u001b[38;5;241m1\u001b[39m, inplace \u001b[38;5;241m=\u001b[39m \u001b[38;5;28;01mFalse\u001b[39;00m) \u001b[38;5;66;03m# inplace = false\u001b[39;00m\n\u001b[0;32m      3\u001b[0m \u001b[38;5;28mprint\u001b[39m(quartely_sales)\n\u001b[0;32m      4\u001b[0m \u001b[38;5;28mprint\u001b[39m(s)\n",
      "File \u001b[1;32m~\\anaconda3\\Lib\\site-packages\\pandas\\core\\frame.py:5344\u001b[0m, in \u001b[0;36mDataFrame.drop\u001b[1;34m(self, labels, axis, index, columns, level, inplace, errors)\u001b[0m\n\u001b[0;32m   5196\u001b[0m \u001b[38;5;28;01mdef\u001b[39;00m \u001b[38;5;21mdrop\u001b[39m(\n\u001b[0;32m   5197\u001b[0m     \u001b[38;5;28mself\u001b[39m,\n\u001b[0;32m   5198\u001b[0m     labels: IndexLabel \u001b[38;5;241m|\u001b[39m \u001b[38;5;28;01mNone\u001b[39;00m \u001b[38;5;241m=\u001b[39m \u001b[38;5;28;01mNone\u001b[39;00m,\n\u001b[1;32m   (...)\u001b[0m\n\u001b[0;32m   5205\u001b[0m     errors: IgnoreRaise \u001b[38;5;241m=\u001b[39m \u001b[38;5;124m\"\u001b[39m\u001b[38;5;124mraise\u001b[39m\u001b[38;5;124m\"\u001b[39m,\n\u001b[0;32m   5206\u001b[0m ) \u001b[38;5;241m-\u001b[39m\u001b[38;5;241m>\u001b[39m DataFrame \u001b[38;5;241m|\u001b[39m \u001b[38;5;28;01mNone\u001b[39;00m:\n\u001b[0;32m   5207\u001b[0m \u001b[38;5;250m    \u001b[39m\u001b[38;5;124;03m\"\"\"\u001b[39;00m\n\u001b[0;32m   5208\u001b[0m \u001b[38;5;124;03m    Drop specified labels from rows or columns.\u001b[39;00m\n\u001b[0;32m   5209\u001b[0m \n\u001b[1;32m   (...)\u001b[0m\n\u001b[0;32m   5342\u001b[0m \u001b[38;5;124;03m            weight  1.0     0.8\u001b[39;00m\n\u001b[0;32m   5343\u001b[0m \u001b[38;5;124;03m    \"\"\"\u001b[39;00m\n\u001b[1;32m-> 5344\u001b[0m     \u001b[38;5;28;01mreturn\u001b[39;00m \u001b[38;5;28msuper\u001b[39m()\u001b[38;5;241m.\u001b[39mdrop(\n\u001b[0;32m   5345\u001b[0m         labels\u001b[38;5;241m=\u001b[39mlabels,\n\u001b[0;32m   5346\u001b[0m         axis\u001b[38;5;241m=\u001b[39maxis,\n\u001b[0;32m   5347\u001b[0m         index\u001b[38;5;241m=\u001b[39mindex,\n\u001b[0;32m   5348\u001b[0m         columns\u001b[38;5;241m=\u001b[39mcolumns,\n\u001b[0;32m   5349\u001b[0m         level\u001b[38;5;241m=\u001b[39mlevel,\n\u001b[0;32m   5350\u001b[0m         inplace\u001b[38;5;241m=\u001b[39minplace,\n\u001b[0;32m   5351\u001b[0m         errors\u001b[38;5;241m=\u001b[39merrors,\n\u001b[0;32m   5352\u001b[0m     )\n",
      "File \u001b[1;32m~\\anaconda3\\Lib\\site-packages\\pandas\\core\\generic.py:4711\u001b[0m, in \u001b[0;36mNDFrame.drop\u001b[1;34m(self, labels, axis, index, columns, level, inplace, errors)\u001b[0m\n\u001b[0;32m   4709\u001b[0m \u001b[38;5;28;01mfor\u001b[39;00m axis, labels \u001b[38;5;129;01min\u001b[39;00m axes\u001b[38;5;241m.\u001b[39mitems():\n\u001b[0;32m   4710\u001b[0m     \u001b[38;5;28;01mif\u001b[39;00m labels \u001b[38;5;129;01mis\u001b[39;00m \u001b[38;5;129;01mnot\u001b[39;00m \u001b[38;5;28;01mNone\u001b[39;00m:\n\u001b[1;32m-> 4711\u001b[0m         obj \u001b[38;5;241m=\u001b[39m obj\u001b[38;5;241m.\u001b[39m_drop_axis(labels, axis, level\u001b[38;5;241m=\u001b[39mlevel, errors\u001b[38;5;241m=\u001b[39merrors)\n\u001b[0;32m   4713\u001b[0m \u001b[38;5;28;01mif\u001b[39;00m inplace:\n\u001b[0;32m   4714\u001b[0m     \u001b[38;5;28mself\u001b[39m\u001b[38;5;241m.\u001b[39m_update_inplace(obj)\n",
      "File \u001b[1;32m~\\anaconda3\\Lib\\site-packages\\pandas\\core\\generic.py:4753\u001b[0m, in \u001b[0;36mNDFrame._drop_axis\u001b[1;34m(self, labels, axis, level, errors, only_slice)\u001b[0m\n\u001b[0;32m   4751\u001b[0m         new_axis \u001b[38;5;241m=\u001b[39m axis\u001b[38;5;241m.\u001b[39mdrop(labels, level\u001b[38;5;241m=\u001b[39mlevel, errors\u001b[38;5;241m=\u001b[39merrors)\n\u001b[0;32m   4752\u001b[0m     \u001b[38;5;28;01melse\u001b[39;00m:\n\u001b[1;32m-> 4753\u001b[0m         new_axis \u001b[38;5;241m=\u001b[39m axis\u001b[38;5;241m.\u001b[39mdrop(labels, errors\u001b[38;5;241m=\u001b[39merrors)\n\u001b[0;32m   4754\u001b[0m     indexer \u001b[38;5;241m=\u001b[39m axis\u001b[38;5;241m.\u001b[39mget_indexer(new_axis)\n\u001b[0;32m   4756\u001b[0m \u001b[38;5;66;03m# Case for non-unique axis\u001b[39;00m\n\u001b[0;32m   4757\u001b[0m \u001b[38;5;28;01melse\u001b[39;00m:\n",
      "File \u001b[1;32m~\\anaconda3\\Lib\\site-packages\\pandas\\core\\indexes\\base.py:7000\u001b[0m, in \u001b[0;36mIndex.drop\u001b[1;34m(self, labels, errors)\u001b[0m\n\u001b[0;32m   6998\u001b[0m \u001b[38;5;28;01mif\u001b[39;00m mask\u001b[38;5;241m.\u001b[39many():\n\u001b[0;32m   6999\u001b[0m     \u001b[38;5;28;01mif\u001b[39;00m errors \u001b[38;5;241m!=\u001b[39m \u001b[38;5;124m\"\u001b[39m\u001b[38;5;124mignore\u001b[39m\u001b[38;5;124m\"\u001b[39m:\n\u001b[1;32m-> 7000\u001b[0m         \u001b[38;5;28;01mraise\u001b[39;00m \u001b[38;5;167;01mKeyError\u001b[39;00m(\u001b[38;5;124mf\u001b[39m\u001b[38;5;124m\"\u001b[39m\u001b[38;5;132;01m{\u001b[39;00mlabels[mask]\u001b[38;5;241m.\u001b[39mtolist()\u001b[38;5;132;01m}\u001b[39;00m\u001b[38;5;124m not found in axis\u001b[39m\u001b[38;5;124m\"\u001b[39m)\n\u001b[0;32m   7001\u001b[0m     indexer \u001b[38;5;241m=\u001b[39m indexer[\u001b[38;5;241m~\u001b[39mmask]\n\u001b[0;32m   7002\u001b[0m \u001b[38;5;28;01mreturn\u001b[39;00m \u001b[38;5;28mself\u001b[39m\u001b[38;5;241m.\u001b[39mdelete(indexer)\n",
      "\u001b[1;31mKeyError\u001b[0m: \"['Aunnal_sales'] not found in axis\""
     ]
    }
   ],
   "source": [
    "#dropping a col\n",
    "s = quartely_sales.drop(['Aunnal_sales'], axis = 1, inplace = False) # inplace = false\n",
    "print(quartely_sales)\n",
    "print(s)"
   ]
  },
  {
   "cell_type": "code",
   "execution_count": 26,
   "id": "b2d3b873-69ca-4feb-b211-1e968f30d86b",
   "metadata": {},
   "outputs": [
    {
     "name": "stdout",
     "output_type": "stream",
     "text": [
      "         Q1   Q2   Q3   Q4  Aunnal_sales\n",
      "Entry1  120   80  150  100           450\n",
      "Entry2  200  180  150  120           650\n",
      "Entry3  175  175  200  130           680\n",
      "         Q1   Q2   Q3   Q4  Aunnal_sales\n",
      "Entry1  120   80  150  100           450\n",
      "Entry3  175  175  200  130           680\n"
     ]
    }
   ],
   "source": [
    "# removing rows \n",
    "newdf = quartely_sales.drop(['Entry2'])\n",
    "print(quartely_sales)\n",
    "print(newdf)"
   ]
  },
  {
   "cell_type": "code",
   "execution_count": 27,
   "id": "943781a6-b861-432d-bac0-09a757420f9b",
   "metadata": {},
   "outputs": [
    {
     "data": {
      "text/html": [
       "<div>\n",
       "<style scoped>\n",
       "    .dataframe tbody tr th:only-of-type {\n",
       "        vertical-align: middle;\n",
       "    }\n",
       "\n",
       "    .dataframe tbody tr th {\n",
       "        vertical-align: top;\n",
       "    }\n",
       "\n",
       "    .dataframe thead th {\n",
       "        text-align: right;\n",
       "    }\n",
       "</style>\n",
       "<table border=\"1\" class=\"dataframe\">\n",
       "  <thead>\n",
       "    <tr style=\"text-align: right;\">\n",
       "      <th></th>\n",
       "      <th>Q1</th>\n",
       "      <th>Q2</th>\n",
       "      <th>Q3</th>\n",
       "      <th>Q4</th>\n",
       "      <th>Aunnal_sales</th>\n",
       "    </tr>\n",
       "  </thead>\n",
       "  <tbody>\n",
       "    <tr>\n",
       "      <th>Entry1</th>\n",
       "      <td>120</td>\n",
       "      <td>80</td>\n",
       "      <td>150</td>\n",
       "      <td>100</td>\n",
       "      <td>450</td>\n",
       "    </tr>\n",
       "  </tbody>\n",
       "</table>\n",
       "</div>"
      ],
      "text/plain": [
       "         Q1  Q2   Q3   Q4  Aunnal_sales\n",
       "Entry1  120  80  150  100           450"
      ]
     },
     "execution_count": 27,
     "metadata": {},
     "output_type": "execute_result"
    }
   ],
   "source": [
    "# removing multiple rows using index range \n",
    "quartely_sales.drop(quartely_sales.index[1:3]) # deleted the row number - 1,2"
   ]
  },
  {
   "cell_type": "code",
   "execution_count": 20,
   "id": "67c3e4f9-9383-47e2-99d7-dc05d5e9eb8e",
   "metadata": {},
   "outputs": [
    {
     "name": "stdout",
     "output_type": "stream",
     "text": [
      "         Q1   Q2   Q3   Q4  Aunnal_sales\n",
      "Entry1    0   80  150  100           450\n",
      "Entry2  200  180  150  120           650\n",
      "Entry3  175  175  200  130           680\n"
     ]
    }
   ],
   "source": [
    "# udpating value from slides \n",
    "# quartely_sales.set_value('Entry1', 'Q1', 0) # error\n",
    "# quartely_sales.loc['Entry1', 'Q1'] = 0\n",
    "quarterly_sales.at['Entry1', 'Q1'] = 0 # alternative\n",
    "print(quartely_sales)"
   ]
  },
  {
   "cell_type": "code",
   "execution_count": 36,
   "id": "a313bfd2-a9f3-4dbe-ab40-04267cc3715b",
   "metadata": {},
   "outputs": [
    {
     "name": "stdout",
     "output_type": "stream",
     "text": [
      "      Name  Account\n",
      "C1    Jude        1\n",
      "C2   Madan        2\n",
      "C3  Rafael        3\n",
      "C4  Edvina        4\n",
      "    Account\n",
      "C1     1001\n",
      "C2     2001\n",
      "C3     3001\n",
      "C4     4001\n",
      "      Name  Account\n",
      "C1    Jude     1001\n",
      "C2   Madan     2001\n",
      "C3  Rafael     3001\n",
      "C4  Edvina     4001\n"
     ]
    }
   ],
   "source": [
    "data = {'Name': ['Jude', 'Madan', 'Rafael', 'Edvina'],\n",
    "        'Account': [1,2,3,4]}\n",
    "df = pd.DataFrame(data, index = ['C1', 'C2', 'C3', 'C4'])\n",
    "print(df)\n",
    "data = {'Account' : [1001,2001,3001,4001]}\n",
    "new_accounts = pd.DataFrame(data, index = ['C1','C2', 'C3', 'C4'])\n",
    "print(new_accounts)\n",
    "df.update(new_accounts)\n",
    "print(df)"
   ]
  },
  {
   "cell_type": "code",
   "execution_count": 38,
   "id": "cb1d45a9-ac72-44bf-95aa-8554b09d1989",
   "metadata": {},
   "outputs": [
    {
     "name": "stdout",
     "output_type": "stream",
     "text": [
      "   custID       City  storeNumber  sales(INR)  Customer age Gender\n",
      "0    1001     mumbai           10         123            30      m\n",
      "1    1003  Bangalore           23         543            40      m\n",
      "2    1006      delhi           15         220            30      f\n",
      "3    1007    chennai           17         190            45      f\n",
      "4    1009     mumbai           11         269            28      f\n"
     ]
    }
   ],
   "source": [
    "#filtering data:\n",
    "rawData = {'custID': [1001,1003,1006,1007,1009], \n",
    "           'City':['mumbai','Bangalore','delhi','chennai', 'mumbai'], \n",
    "           'storeNumber': [10,23,15,17,11],\n",
    "           'sales(INR)': [123,543,220,190,269],\n",
    "           'Customer age': [30,40,30,45,28],\n",
    "           'Gender': ['m','m','f','f','f']}\n",
    "purchases = pd.DataFrame(rawData)\n",
    "print(purchases)"
   ]
  },
  {
   "cell_type": "code",
   "execution_count": 42,
   "id": "4b7f346f-205c-45c4-b907-52c0629fd95b",
   "metadata": {},
   "outputs": [
    {
     "name": "stdout",
     "output_type": "stream",
     "text": [
      "0     True\n",
      "1     True\n",
      "2    False\n",
      "3    False\n",
      "4    False\n",
      "Name: Gender, dtype: bool\n"
     ]
    },
    {
     "data": {
      "text/html": [
       "<div>\n",
       "<style scoped>\n",
       "    .dataframe tbody tr th:only-of-type {\n",
       "        vertical-align: middle;\n",
       "    }\n",
       "\n",
       "    .dataframe tbody tr th {\n",
       "        vertical-align: top;\n",
       "    }\n",
       "\n",
       "    .dataframe thead th {\n",
       "        text-align: right;\n",
       "    }\n",
       "</style>\n",
       "<table border=\"1\" class=\"dataframe\">\n",
       "  <thead>\n",
       "    <tr style=\"text-align: right;\">\n",
       "      <th></th>\n",
       "      <th>custID</th>\n",
       "      <th>City</th>\n",
       "      <th>storeNumber</th>\n",
       "      <th>sales(INR)</th>\n",
       "      <th>Customer age</th>\n",
       "      <th>Gender</th>\n",
       "    </tr>\n",
       "  </thead>\n",
       "  <tbody>\n",
       "    <tr>\n",
       "      <th>0</th>\n",
       "      <td>1001</td>\n",
       "      <td>mumbai</td>\n",
       "      <td>10</td>\n",
       "      <td>123</td>\n",
       "      <td>30</td>\n",
       "      <td>m</td>\n",
       "    </tr>\n",
       "    <tr>\n",
       "      <th>1</th>\n",
       "      <td>1003</td>\n",
       "      <td>Bangalore</td>\n",
       "      <td>23</td>\n",
       "      <td>543</td>\n",
       "      <td>40</td>\n",
       "      <td>m</td>\n",
       "    </tr>\n",
       "  </tbody>\n",
       "</table>\n",
       "</div>"
      ],
      "text/plain": [
       "   custID       City  storeNumber  sales(INR)  Customer age Gender\n",
       "0    1001     mumbai           10         123            30      m\n",
       "1    1003  Bangalore           23         543            40      m"
      ]
     },
     "execution_count": 42,
     "metadata": {},
     "output_type": "execute_result"
    }
   ],
   "source": [
    "# display the records of male custumers \n",
    "print(purchases['Gender'] == 'm')\n",
    "\n",
    "purchases[purchases['Gender'] == 'm']"
   ]
  },
  {
   "cell_type": "code",
   "execution_count": 45,
   "id": "7a2d4216-66f0-4115-8a16-bb4db541de4f",
   "metadata": {},
   "outputs": [
    {
     "name": "stdout",
     "output_type": "stream",
     "text": [
      "0     True\n",
      "1     True\n",
      "2    False\n",
      "3    False\n",
      "4     True\n",
      "Name: City, dtype: bool\n"
     ]
    },
    {
     "data": {
      "text/html": [
       "<div>\n",
       "<style scoped>\n",
       "    .dataframe tbody tr th:only-of-type {\n",
       "        vertical-align: middle;\n",
       "    }\n",
       "\n",
       "    .dataframe tbody tr th {\n",
       "        vertical-align: top;\n",
       "    }\n",
       "\n",
       "    .dataframe thead th {\n",
       "        text-align: right;\n",
       "    }\n",
       "</style>\n",
       "<table border=\"1\" class=\"dataframe\">\n",
       "  <thead>\n",
       "    <tr style=\"text-align: right;\">\n",
       "      <th></th>\n",
       "      <th>custID</th>\n",
       "      <th>City</th>\n",
       "      <th>storeNumber</th>\n",
       "      <th>sales(INR)</th>\n",
       "      <th>Customer age</th>\n",
       "      <th>Gender</th>\n",
       "    </tr>\n",
       "  </thead>\n",
       "  <tbody>\n",
       "    <tr>\n",
       "      <th>0</th>\n",
       "      <td>1001</td>\n",
       "      <td>mumbai</td>\n",
       "      <td>10</td>\n",
       "      <td>123</td>\n",
       "      <td>30</td>\n",
       "      <td>m</td>\n",
       "    </tr>\n",
       "    <tr>\n",
       "      <th>1</th>\n",
       "      <td>1003</td>\n",
       "      <td>Bangalore</td>\n",
       "      <td>23</td>\n",
       "      <td>543</td>\n",
       "      <td>40</td>\n",
       "      <td>m</td>\n",
       "    </tr>\n",
       "    <tr>\n",
       "      <th>4</th>\n",
       "      <td>1009</td>\n",
       "      <td>mumbai</td>\n",
       "      <td>11</td>\n",
       "      <td>269</td>\n",
       "      <td>28</td>\n",
       "      <td>f</td>\n",
       "    </tr>\n",
       "  </tbody>\n",
       "</table>\n",
       "</div>"
      ],
      "text/plain": [
       "   custID       City  storeNumber  sales(INR)  Customer age Gender\n",
       "0    1001     mumbai           10         123            30      m\n",
       "1    1003  Bangalore           23         543            40      m\n",
       "4    1009     mumbai           11         269            28      f"
      ]
     },
     "execution_count": 45,
     "metadata": {},
     "output_type": "execute_result"
    }
   ],
   "source": [
    "cities = ['Bangalore', 'mumbai']\n",
    "print(purchases.City.isin(cities))\n",
    "purchases[purchases.City.isin(cities)]"
   ]
  },
  {
   "cell_type": "code",
   "execution_count": 26,
   "id": "bca37fa0-e15b-4c54-a43f-a80df8dc7520",
   "metadata": {},
   "outputs": [
    {
     "name": "stdout",
     "output_type": "stream",
     "text": [
      "Before update:\n",
      "   A   B    C\n",
      "0  1  10  100\n",
      "1  2  20  200\n",
      "2  3  30  300\n",
      "\n",
      "After update:\n",
      "   A   B    C\n",
      "0  1  15  150\n",
      "1  2  25  250\n",
      "2  3  35  350\n"
     ]
    }
   ],
   "source": [
    "import pandas as pd\n",
    "\n",
    "# Example DataFrame\n",
    "data = {\n",
    "    'A': [1, 2, 3],\n",
    "    'B': [10, 20, 30],\n",
    "    'C': [100, 200, 300]\n",
    "}\n",
    "\n",
    "df = pd.DataFrame(data)\n",
    "print(\"Before update:\")\n",
    "print(df)\n",
    "\n",
    "# Updating columns 'B' and 'C'\n",
    "df['B'] = [15, 25, 35]\n",
    "df['C'] = [150, 250, 350]\n",
    "\n",
    "print(\"\\nAfter update:\")\n",
    "print(df)\n"
   ]
  },
  {
   "cell_type": "code",
   "execution_count": 29,
   "id": "5b818b04-5efe-41d1-a700-16e9dc26acfb",
   "metadata": {},
   "outputs": [
    {
     "name": "stdout",
     "output_type": "stream",
     "text": [
      "    B    C\n",
      "0  15  150\n",
      "1  25  250\n",
      "2  35  350\n",
      "   A   B    C\n",
      "0  1  15  150\n",
      "1  2  25  250\n",
      "2  3  35  350\n"
     ]
    }
   ],
   "source": [
    "# Example using loc to update columns\n",
    "print(df.loc[:, ['B', 'C']])\n",
    "print(df)"
   ]
  },
  {
   "cell_type": "code",
   "execution_count": null,
   "id": "60a96709-9c9a-49ef-9123-bb180bad32f1",
   "metadata": {},
   "outputs": [],
   "source": []
  }
 ],
 "metadata": {
  "kernelspec": {
   "display_name": "Python 3 (ipykernel)",
   "language": "python",
   "name": "python3"
  },
  "language_info": {
   "codemirror_mode": {
    "name": "ipython",
    "version": 3
   },
   "file_extension": ".py",
   "mimetype": "text/x-python",
   "name": "python",
   "nbconvert_exporter": "python",
   "pygments_lexer": "ipython3",
   "version": "3.11.7"
  }
 },
 "nbformat": 4,
 "nbformat_minor": 5
}
