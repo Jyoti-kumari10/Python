{
 "cells": [
  {
   "cell_type": "code",
   "execution_count": 3,
   "metadata": {},
   "outputs": [
    {
     "name": "stdout",
     "output_type": "stream",
     "text": [
      "The distance covered by the 2 cars in 4 different rides are: \n",
      "-------------------------------------------------------------\n",
      "[[ 2  4  6  8]\n",
      " [ 3  6  9 12]]\n"
     ]
    }
   ],
   "source": [
    "import numpy as np\n",
    "\n",
    "dist_covered = np.array([[2,4,6,8],[3,6,9,12]])\n",
    "\n",
    "print(\"The distance covered by the 2 cars in 4 different rides are: \")\n",
    "print(\"-------------------------------------------------------------\")\n",
    "print(dist_covered)"
   ]
  },
  {
   "cell_type": "code",
   "execution_count": 4,
   "metadata": {},
   "outputs": [
    {
     "data": {
      "text/plain": [
       "2"
      ]
     },
     "execution_count": 4,
     "metadata": {},
     "output_type": "execute_result"
    }
   ],
   "source": [
    "dist_covered[0,0] "
   ]
  },
  {
   "cell_type": "code",
   "execution_count": 5,
   "metadata": {},
   "outputs": [
    {
     "data": {
      "text/plain": [
       "array([[ 6,  8],\n",
       "       [ 9, 12]])"
      ]
     },
     "execution_count": 5,
     "metadata": {},
     "output_type": "execute_result"
    }
   ],
   "source": [
    "dist_covered[:,2:]"
   ]
  },
  {
   "cell_type": "markdown",
   "metadata": {},
   "source": [
    "# Conditional Selection\n",
    "\n",
    "- <, > , <=, >= , ==, !="
   ]
  },
  {
   "cell_type": "code",
   "execution_count": 6,
   "metadata": {},
   "outputs": [
    {
     "data": {
      "text/plain": [
       "array([[ 2,  4,  6,  8],\n",
       "       [ 3,  6,  9, 12]])"
      ]
     },
     "execution_count": 6,
     "metadata": {},
     "output_type": "execute_result"
    }
   ],
   "source": [
    "dist_covered"
   ]
  },
  {
   "cell_type": "code",
   "execution_count": 7,
   "metadata": {},
   "outputs": [
    {
     "name": "stdout",
     "output_type": "stream",
     "text": [
      "[[False False  True  True]\n",
      " [False  True  True  True]]\n"
     ]
    }
   ],
   "source": [
    "print(dist_covered > 5)"
   ]
  },
  {
   "cell_type": "markdown",
   "metadata": {},
   "source": [
    "Note: whenever you use comparison operators on numpy arrays, it would always return only a boolean set of values"
   ]
  },
  {
   "cell_type": "code",
   "execution_count": 8,
   "metadata": {},
   "outputs": [
    {
     "name": "stdout",
     "output_type": "stream",
     "text": [
      "[ 6  8  6  9 12]\n",
      "<class 'numpy.ndarray'>\n"
     ]
    }
   ],
   "source": [
    "condition1 = dist_covered > 5 #greater than\n",
    "\n",
    "print(dist_covered[condition1])\n",
    "print(type(dist_covered[condition1]))"
   ]
  },
  {
   "cell_type": "code",
   "execution_count": 11,
   "metadata": {},
   "outputs": [
    {
     "name": "stdout",
     "output_type": "stream",
     "text": [
      "[2 3]\n"
     ]
    }
   ],
   "source": [
    "condition2 = dist_covered < 4 #lesser than\n",
    "\n",
    "print(dist_covered[condition2])"
   ]
  },
  {
   "cell_type": "code",
   "execution_count": 12,
   "metadata": {},
   "outputs": [
    {
     "data": {
      "text/plain": [
       "array([ 8,  9, 12])"
      ]
     },
     "execution_count": 12,
     "metadata": {},
     "output_type": "execute_result"
    }
   ],
   "source": [
    "dist_covered[dist_covered >=8] #greater than or equal to"
   ]
  },
  {
   "cell_type": "code",
   "execution_count": 13,
   "metadata": {},
   "outputs": [
    {
     "data": {
      "text/plain": [
       "array([2, 4, 3])"
      ]
     },
     "execution_count": 13,
     "metadata": {},
     "output_type": "execute_result"
    }
   ],
   "source": [
    "dist_covered[dist_covered <=4] #less than or equal to"
   ]
  },
  {
   "cell_type": "code",
   "execution_count": 39,
   "metadata": {},
   "outputs": [
    {
     "name": "stdout",
     "output_type": "stream",
     "text": [
      "[6 6]\n",
      "[ 2  4  8  3  9 12]\n"
     ]
    }
   ],
   "source": [
    "print(dist_covered[dist_covered == 6]) # equal to\n",
    "print(dist_covered[dist_covered != 6]) #not equal to"
   ]
  },
  {
   "cell_type": "code",
   "execution_count": 15,
   "metadata": {},
   "outputs": [
    {
     "data": {
      "text/plain": [
       "array([ 2,  4,  8,  3,  9, 12])"
      ]
     },
     "execution_count": 15,
     "metadata": {},
     "output_type": "execute_result"
    }
   ],
   "source": [
    "dist_covered[dist_covered != 6] #not equal to"
   ]
  },
  {
   "cell_type": "code",
   "execution_count": 17,
   "metadata": {},
   "outputs": [
    {
     "name": "stdout",
     "output_type": "stream",
     "text": [
      "The total number of rides in which the distance covered is greater than 6 kms: \n",
      "3\n"
     ]
    }
   ],
   "source": [
    "print(\"The total number of rides in which the distance covered is greater than 6 kms: \")\n",
    "print(dist_covered[dist_covered>6].size)"
   ]
  },
  {
   "cell_type": "markdown",
   "metadata": {},
   "source": [
    "**How to perform multiple condition checks?**\n",
    "\n",
    "- &,|"
   ]
  },
  {
   "cell_type": "code",
   "execution_count": 18,
   "metadata": {},
   "outputs": [
    {
     "data": {
      "text/plain": [
       "array([6, 8, 6, 9])"
      ]
     },
     "execution_count": 18,
     "metadata": {},
     "output_type": "execute_result"
    }
   ],
   "source": [
    "dist_covered[np.where((dist_covered>4) & (dist_covered<=9))]"
   ]
  },
  {
   "cell_type": "code",
   "execution_count": 37,
   "metadata": {},
   "outputs": [
    {
     "data": {
      "text/plain": [
       "array([ 8,  9, 12])"
      ]
     },
     "execution_count": 37,
     "metadata": {},
     "output_type": "execute_result"
    }
   ],
   "source": [
    "dist_covered[np.where((dist_covered == 5) | (dist_covered>7))]"
   ]
  },
  {
   "cell_type": "markdown",
   "metadata": {},
   "source": [
    "Note : use & to implement the and condition in numpy arrays, use | to implement the or condition in numpy arrays"
   ]
  },
  {
   "cell_type": "markdown",
   "metadata": {},
   "source": [
    "# Universal functions in numpy"
   ]
  },
  {
   "cell_type": "code",
   "execution_count": 21,
   "metadata": {},
   "outputs": [
    {
     "name": "stdout",
     "output_type": "stream",
     "text": [
      "[ 4  9 16 25 36]\n"
     ]
    }
   ],
   "source": [
    "num_array = np.array([4,9,16,25,36])\n",
    "print(num_array)"
   ]
  },
  {
   "cell_type": "code",
   "execution_count": 23,
   "metadata": {},
   "outputs": [
    {
     "name": "stdout",
     "output_type": "stream",
     "text": [
      "Square root of the num_array values are: \n",
      "[2. 3. 4. 5. 6.]\n"
     ]
    }
   ],
   "source": [
    "# math operations\n",
    "print(\"Square root of the num_array values are: \")\n",
    "print(np.sqrt(num_array))"
   ]
  },
  {
   "cell_type": "code",
   "execution_count": 24,
   "metadata": {},
   "outputs": [
    {
     "name": "stdout",
     "output_type": "stream",
     "text": [
      "Sum of the num_array values are: \n",
      "90\n"
     ]
    }
   ],
   "source": [
    "print(\"Sum of the num_array values are: \")\n",
    "print(np.sum(num_array))"
   ]
  },
  {
   "cell_type": "code",
   "execution_count": 25,
   "metadata": {},
   "outputs": [
    {
     "name": "stdout",
     "output_type": "stream",
     "text": [
      "Maximum value amongst all the values of the num_array is: \n",
      "36\n"
     ]
    }
   ],
   "source": [
    "print(\"Maximum value amongst all the values of the num_array is: \")\n",
    "print(np.max(num_array))"
   ]
  },
  {
   "cell_type": "code",
   "execution_count": 26,
   "metadata": {},
   "outputs": [
    {
     "name": "stdout",
     "output_type": "stream",
     "text": [
      "Minimum value amongst all the values of the num_array is: \n",
      "4\n"
     ]
    }
   ],
   "source": [
    "print(\"Minimum value amongst all the values of the num_array is: \")\n",
    "print(np.min(num_array))"
   ]
  },
  {
   "cell_type": "code",
   "execution_count": 28,
   "metadata": {},
   "outputs": [
    {
     "name": "stdout",
     "output_type": "stream",
     "text": [
      "Average(mean) value of the num_Array is : \n",
      "18.0\n"
     ]
    }
   ],
   "source": [
    "print(\"Average(mean) value of the num_Array is : \")\n",
    "print(np.mean(num_array))"
   ]
  },
  {
   "cell_type": "code",
   "execution_count": 29,
   "metadata": {},
   "outputs": [
    {
     "name": "stdout",
     "output_type": "stream",
     "text": [
      "Median value of the num_Array is : \n",
      "16.0\n"
     ]
    }
   ],
   "source": [
    "print(\"Median value of the num_Array is : \")\n",
    "print(np.median(num_array))"
   ]
  },
  {
   "cell_type": "code",
   "execution_count": 30,
   "metadata": {},
   "outputs": [
    {
     "name": "stdout",
     "output_type": "stream",
     "text": [
      "Variance value of the num_Array is : \n",
      "130.8\n"
     ]
    }
   ],
   "source": [
    "print(\"Variance value of the num_Array is : \")\n",
    "print(np.var(num_array))"
   ]
  },
  {
   "cell_type": "code",
   "execution_count": 31,
   "metadata": {},
   "outputs": [],
   "source": [
    "num_array2 = np.array([1.75,2.6,3.4])"
   ]
  },
  {
   "cell_type": "code",
   "execution_count": 33,
   "metadata": {},
   "outputs": [
    {
     "name": "stdout",
     "output_type": "stream",
     "text": [
      "The rounded off values of num_array2 are : \n",
      "[2. 3. 3.]\n"
     ]
    }
   ],
   "source": [
    "print(\"The rounded off values of num_array2 are : \")\n",
    "print(np.round(num_array2))"
   ]
  },
  {
   "cell_type": "code",
   "execution_count": 34,
   "metadata": {},
   "outputs": [
    {
     "name": "stdout",
     "output_type": "stream",
     "text": [
      "The floor values of num_array2 are :\n",
      "[1. 2. 3.]\n"
     ]
    }
   ],
   "source": [
    "print(\"The floor values of num_array2 are :\")\n",
    "print(np.floor(num_array2))"
   ]
  },
  {
   "cell_type": "code",
   "execution_count": 35,
   "metadata": {},
   "outputs": [
    {
     "name": "stdout",
     "output_type": "stream",
     "text": [
      "The ceil values of num_array2 are :\n",
      "[2. 3. 4.]\n"
     ]
    }
   ],
   "source": [
    "print(\"The ceil values of num_array2 are :\")\n",
    "print(np.ceil(num_array2))"
   ]
  },
  {
   "cell_type": "code",
   "execution_count": 36,
   "metadata": {},
   "outputs": [
    {
     "name": "stdout",
     "output_type": "stream",
     "text": [
      "The rounded off values of num_array2 are : \n",
      "[1.8 2.6 3.4]\n"
     ]
    }
   ],
   "source": [
    "print(\"The rounded off values of num_array2 are : \")\n",
    "print(np.round(num_array2 , decimals= 1))"
   ]
  },
  {
   "cell_type": "code",
   "execution_count": 19,
   "metadata": {},
   "outputs": [
    {
     "name": "stdout",
     "output_type": "stream",
     "text": [
      "[ 0.0000000e+00  1.0000000e+00  1.2246468e-16 -1.0000000e+00]\n",
      "[ 1.0000000e+00  6.1232340e-17 -1.0000000e+00 -1.8369702e-16]\n"
     ]
    }
   ],
   "source": [
    "# trigonometric-------------------\n",
    "angles = np.array([0, np.pi/2, np.pi, 3*np.pi/2])\n",
    "\n",
    "# Compute the sine of each angle\n",
    "sine_values = np.sin(angles)\n",
    "print(sine_values)  # Output: [ 0.  1.  0. -1.]\n",
    "\n",
    "# Compute the cosine of each angle\n",
    "cosine_values = np.cos(angles)\n",
    "print(cosine_values)  # Output: [ 1.  0. -1.  0.]"
   ]
  },
  {
   "cell_type": "code",
   "execution_count": 20,
   "metadata": {},
   "outputs": [
    {
     "name": "stdout",
     "output_type": "stream",
     "text": [
      "[ True  True False False False  True]\n"
     ]
    }
   ],
   "source": [
    "# bit twiddling functions\n",
    "# Create an array with finite and infinite values\n",
    "# infinite function\n",
    "arr = np.array([1, 2, np.inf, -np.inf, np.nan, 3])\n",
    "\n",
    "# Use numpy.isfinite to test for finite values\n",
    "result = np.isfinite(arr)\n",
    "\n",
    "print(result)"
   ]
  },
  {
   "cell_type": "code",
   "execution_count": 21,
   "metadata": {},
   "outputs": [
    {
     "name": "stdout",
     "output_type": "stream",
     "text": [
      "[1. 2. 3.]\n"
     ]
    }
   ],
   "source": [
    "# usecase of isfinite function------------------\n",
    "# Create an array with finite and infinite values\n",
    "arr = np.array([1, 2, np.inf, -np.inf, np.nan, 3])\n",
    "\n",
    "# Get a boolean array indicating which elements are finite\n",
    "finite_mask = np.isfinite(arr)\n",
    "\n",
    "# Use the mask to filter the finite values\n",
    "finite_values = arr[finite_mask]\n",
    "\n",
    "print(finite_values)"
   ]
  },
  {
   "cell_type": "code",
   "execution_count": 22,
   "metadata": {},
   "outputs": [
    {
     "name": "stdout",
     "output_type": "stream",
     "text": [
      "[ True  True  True False]\n",
      "[False False  True  True]\n",
      "[False False  True  True]\n"
     ]
    }
   ],
   "source": [
    "# ---------------------------comparison functions----------------------------------------------------------------------------\n",
    "a = np.array([1, 2, 3, 4])\n",
    "b = np.array([1, 2, 3, 5])\n",
    "\n",
    "result = np.equal(a, b)\n",
    "print(result)  # Output: [ True  True  True False]\n",
    "\n",
    "a = np.array([1, 2, 3, 4])\n",
    "b = np.array([1, 2, 1, 3])\n",
    "\n",
    "result = np.greater(a, b)\n",
    "print(result)  # Output: [False False  True  True]\n",
    "\n",
    "a = np.array([1, 2, 3, 4])\n",
    "b = np.array([1, 2, 4, 5])\n",
    "\n",
    "result = np.less(a, b)\n",
    "print(result)  # Output: [False False  True  True]"
   ]
  },
  {
   "cell_type": "code",
   "execution_count": 25,
   "metadata": {},
   "outputs": [
    {
     "name": "stdout",
     "output_type": "stream",
     "text": [
      "[ 8  8 10]\n",
      "8\n"
     ]
    }
   ],
   "source": [
    "# ----------------------------------bitwise operations-------------------------------------------\n",
    "\n",
    "a = np.array([0b1100, 0b1010, 0b1111])  # Binary representations: 12, 10, 15\n",
    "b = np.array([0b1010, 0b1100, 0b1010])  # Binary representations: 10, 12, 10\n",
    "\n",
    "result = np.bitwise_and(a, b)\n",
    "print(result)  # Output: [ 8  8 10]\n",
    "# Binary result: [0b1000, 0b1000, 0b1010]\n",
    "print(np.bitwise_and(9,10))"
   ]
  },
  {
   "cell_type": "code",
   "execution_count": 31,
   "metadata": {},
   "outputs": [
    {
     "name": "stdout",
     "output_type": "stream",
     "text": [
      "[0.         1.         0.69314718]\n"
     ]
    }
   ],
   "source": [
    "# log function----------------------------------------------------------------\n",
    "x = np.log ([1,np.e, 2]) # The np.log function is applied element-wise to each element of the array\n",
    "print(x)"
   ]
  },
  {
   "cell_type": "code",
   "execution_count": 32,
   "metadata": {},
   "outputs": [
    {
     "name": "stdout",
     "output_type": "stream",
     "text": [
      "Logarithm of 0: -inf\n",
      "Square root of -1: nan\n",
      "Is -inf NaN? False\n",
      "Is NaN NaN? True\n",
      "Is -inf infinite? True\n",
      "Is NaN infinite? False\n"
     ]
    },
    {
     "name": "stderr",
     "output_type": "stream",
     "text": [
      "C:\\Users\\hp\\AppData\\Local\\Temp\\ipykernel_8236\\4088827407.py:3: RuntimeWarning: divide by zero encountered in log\n",
      "  log_zero = np.log(0)\n",
      "C:\\Users\\hp\\AppData\\Local\\Temp\\ipykernel_8236\\4088827407.py:7: RuntimeWarning: invalid value encountered in sqrt\n",
      "  nan_example = np.sqrt(-1)\n"
     ]
    }
   ],
   "source": [
    "# difference between -inf and nan----------------------------------------------\n",
    "# Calculate the natural logarithm of zero\n",
    "log_zero = np.log(0)\n",
    "print(\"Logarithm of 0:\", log_zero)  # Output: -inf\n",
    "\n",
    "# Calculate an invalid operation resulting in NaN\n",
    "nan_example = np.sqrt(-1)\n",
    "print(\"Square root of -1:\", nan_example)  # Output: nan\n",
    "\n",
    "# Check if they are NaN\n",
    "print(\"Is -inf NaN?\", np.isnan(log_zero))  # Output: False\n",
    "print(\"Is NaN NaN?\", np.isnan(nan_example))  # Output: True\n",
    "\n",
    "# Check if they are infinite\n",
    "print(\"Is -inf infinite?\", np.isinf(log_zero))  # Output: True\n",
    "print(\"Is NaN infinite?\", np.isinf(nan_example))  # Output: False"
   ]
  },
  {
   "cell_type": "code",
   "execution_count": 37,
   "metadata": {},
   "outputs": [
    {
     "name": "stdout",
     "output_type": "stream",
     "text": [
      "[ True False False False]\n",
      "False\n",
      "False\n",
      "[ True False]\n",
      "True\n",
      "True\n",
      "[ True False]\n",
      "[ True False]\n"
     ]
    }
   ],
   "source": [
    "# Logic functions--------------------------------------------------------------------\n",
    "\n",
    "a = np.array([True, True, False, False])\n",
    "b = np.array([True, False, True, False])\n",
    "\n",
    "result = np.logical_and(a, b)\n",
    "print(result)  # Output: [ True False False False]\n",
    "\n",
    "arr = np.array([True, True, False])\n",
    "result = arr.all()\n",
    "print(result)  # Output: False\n",
    "\n",
    "arr = np.array([[True, True], [True, False]])\n",
    "result = arr.all()\n",
    "print(result)  # Output: False\n",
    "\n",
    "arr = np.array([[True, True], [True, False]])\n",
    "result = arr.all(axis=0) # through col\n",
    "print(result)  # Output: [ True False]\n",
    "\n",
    "arr = np.array([1, 2, 3, 4])\n",
    "result = (arr > 0).all()\n",
    "print(result)  # Output: True\n",
    "\n",
    "arr = np.array([[True, False], [True, False]])\n",
    "print(np.any(arr))  # o/p = true\n",
    "\n",
    "arr = np.array([[True, False], [True, False]])\n",
    "result = np.any(arr, axis=0)  # o/p : [ True False]\n",
    "print(result)\n"
   ]
  },
  {
   "cell_type": "code",
   "execution_count": 27,
   "metadata": {},
   "outputs": [
    {
     "data": {
      "text/plain": [
       "array([0, 1, 2, 3, 4, 0, 1, 2], dtype=int32)"
      ]
     },
     "execution_count": 27,
     "metadata": {},
     "output_type": "execute_result"
    }
   ],
   "source": [
    "np.mod(np.arange(0,8),5)"
   ]
  },
  {
   "cell_type": "markdown",
   "metadata": {},
   "source": [
    "# How to split and stack Numpy arrays\n",
    "\n",
    "- hsplit(), vsplit()\n",
    "- hstack(), vstack()"
   ]
  },
  {
   "cell_type": "code",
   "execution_count": 12,
   "metadata": {},
   "outputs": [
    {
     "name": "stdout",
     "output_type": "stream",
     "text": [
      "[[ 2  4  6  8]\n",
      " [ 3  6  9 12]]\n"
     ]
    }
   ],
   "source": [
    "dist_covered.resize(2,4)\n",
    "print(dist_covered)"
   ]
  },
  {
   "cell_type": "code",
   "execution_count": 13,
   "metadata": {},
   "outputs": [
    {
     "data": {
      "text/plain": [
       "[array([[2, 4],\n",
       "        [3, 6]]),\n",
       " array([[ 6,  8],\n",
       "        [ 9, 12]])]"
      ]
     },
     "execution_count": 13,
     "metadata": {},
     "output_type": "execute_result"
    }
   ],
   "source": [
    "np.hsplit(dist_covered, 2) # splits the array column wise into n equal arrays"
   ]
  },
  {
   "cell_type": "code",
   "execution_count": 14,
   "metadata": {},
   "outputs": [
    {
     "data": {
      "text/plain": [
       "[array([[2],\n",
       "        [3]]),\n",
       " array([[4],\n",
       "        [6]]),\n",
       " array([[6],\n",
       "        [9]]),\n",
       " array([[ 8],\n",
       "        [12]])]"
      ]
     },
     "execution_count": 14,
     "metadata": {},
     "output_type": "execute_result"
    }
   ],
   "source": [
    "np.hsplit(dist_covered, 4)"
   ]
  },
  {
   "cell_type": "code",
   "execution_count": 15,
   "metadata": {},
   "outputs": [
    {
     "data": {
      "text/plain": [
       "[array([[2, 4, 6, 8]]), array([[ 3,  6,  9, 12]])]"
      ]
     },
     "execution_count": 15,
     "metadata": {},
     "output_type": "execute_result"
    }
   ],
   "source": [
    "np.vsplit(dist_covered, 2)# splits the array row wise into n equal arrays"
   ]
  },
  {
   "cell_type": "markdown",
   "metadata": {},
   "source": [
    "From above, we can infer that the hsplit(),vplit() functions only divide the numpy array equally column wise, row wise respectively."
   ]
  },
  {
   "cell_type": "code",
   "execution_count": 16,
   "metadata": {},
   "outputs": [
    {
     "name": "stdout",
     "output_type": "stream",
     "text": [
      "[[ 2  4  6  8]\n",
      " [ 3  6  9 12]]\n"
     ]
    }
   ],
   "source": [
    "print(dist_covered)"
   ]
  },
  {
   "cell_type": "code",
   "execution_count": 17,
   "metadata": {},
   "outputs": [
    {
     "name": "stdout",
     "output_type": "stream",
     "text": [
      "[[ 1  2  3  4]\n",
      " [15 16 17 18]]\n"
     ]
    }
   ],
   "source": [
    "num_array = np.array([[1,2,3,4],[15,16,17,18]])\n",
    "\n",
    "print(num_array)"
   ]
  },
  {
   "cell_type": "code",
   "execution_count": 18,
   "metadata": {},
   "outputs": [
    {
     "data": {
      "text/plain": [
       "(2, 4)"
      ]
     },
     "execution_count": 18,
     "metadata": {},
     "output_type": "execute_result"
    }
   ],
   "source": [
    "dist_covered.shape"
   ]
  },
  {
   "cell_type": "code",
   "execution_count": 50,
   "metadata": {},
   "outputs": [
    {
     "data": {
      "text/plain": [
       "(2, 4)"
      ]
     },
     "execution_count": 50,
     "metadata": {},
     "output_type": "execute_result"
    }
   ],
   "source": [
    "num_array.shape"
   ]
  },
  {
   "cell_type": "code",
   "execution_count": 51,
   "metadata": {},
   "outputs": [
    {
     "name": "stdout",
     "output_type": "stream",
     "text": [
      "Result of stacking dist_covered array and num_array using hstack() is : \n",
      "[[ 2  4  6  8  1  2  3  4]\n",
      " [ 3  6  9 12 15 16 17 18]]\n"
     ]
    }
   ],
   "source": [
    "print(\"Result of stacking dist_covered array and num_array using hstack() is : \")\n",
    "print(np.hstack((dist_covered,num_array)))"
   ]
  },
  {
   "cell_type": "markdown",
   "metadata": {},
   "source": [
    "Note : hstack combines/stacks the two arrays along the columns. so, as long as the number of rows are same in both the arrays, the hstack() method would work."
   ]
  },
  {
   "cell_type": "code",
   "execution_count": 52,
   "metadata": {},
   "outputs": [
    {
     "name": "stdout",
     "output_type": "stream",
     "text": [
      "Result of stacking dist_covered array and num_array using vstack() is : \n",
      "[[ 2  4  6  8]\n",
      " [ 3  6  9 12]\n",
      " [ 1  2  3  4]\n",
      " [15 16 17 18]]\n"
     ]
    }
   ],
   "source": [
    "print(\"Result of stacking dist_covered array and num_array using vstack() is : \")\n",
    "print(np.vstack((dist_covered,num_array)))"
   ]
  },
  {
   "cell_type": "markdown",
   "metadata": {},
   "source": [
    "Note : vstack combines/stacks the two arrays along the rows. so, as long as the number of columns are same in both the arrays, the vstack() method would work."
   ]
  },
  {
   "cell_type": "markdown",
   "metadata": {},
   "source": [
    "# End of section"
   ]
  }
 ],
 "metadata": {
  "kernelspec": {
   "display_name": "Python 3 (ipykernel)",
   "language": "python",
   "name": "python3"
  },
  "language_info": {
   "codemirror_mode": {
    "name": "ipython",
    "version": 3
   },
   "file_extension": ".py",
   "mimetype": "text/x-python",
   "name": "python",
   "nbconvert_exporter": "python",
   "pygments_lexer": "ipython3",
   "version": "3.11.7"
  }
 },
 "nbformat": 4,
 "nbformat_minor": 4
}
