{
 "cells": [
  {
   "cell_type": "code",
   "execution_count": null,
   "id": "6b1b571d-393c-4d3d-b517-87cc0ae540c8",
   "metadata": {},
   "outputs": [],
   "source": [
    "import sys \n",
    "\n",
    "# Print Python version\n",
    "print(\"Python version:\", sys.version)\n",
    "\n",
    "# Print the platform\n",
    "print(\"Platform:\", sys.platform)\n",
    "\n",
    "# Print command-line arguments\n",
    "print(\"Command-line arguments:\", sys.argv)\n",
    "\n",
    "# Print the size of an object\n",
    "obj = \"Hello, World!\"\n",
    "print(f\"Size of the object '{obj}':\", sys.getsizeof(obj), \"bytes\")\n"
   ]
  },
  {
   "cell_type": "code",
   "execution_count": null,
   "id": "f53c7cd1-ec6e-4163-b573-ab58f45a84be",
   "metadata": {},
   "outputs": [],
   "source": [
    "# OS module\n",
    "import os\n",
    "\n",
    "# Get the current working directory\n",
    "current_dir = os.getcwd()\n",
    "print(\"Current working directory:\", current_dir)"
   ]
  },
  {
   "cell_type": "code",
   "execution_count": null,
   "id": "e093001f-1e54-428c-a46e-ae786f29673d",
   "metadata": {},
   "outputs": [],
   "source": [
    "# List files in the current directory\n",
    "files = os.listdir()\n",
    "print(\"Files in current directory:\", files)"
   ]
  },
  {
   "cell_type": "code",
   "execution_count": null,
   "id": "15e8c137-33d5-4e01-85f8-69479d1cdb37",
   "metadata": {},
   "outputs": [],
   "source": [
    "# Check if a file exists\n",
    "filename = 'example.txt'\n",
    "if os.path.exists(filename):\n",
    "    print(f\"File '{filename}' exists.\")\n",
    "else:\n",
    "    print(f\"File '{filename}' does not exist.\")"
   ]
  },
  {
   "cell_type": "code",
   "execution_count": null,
   "id": "5e3f7d15-8959-4927-a831-5611d2f3d323",
   "metadata": {},
   "outputs": [],
   "source": [
    "# Create a directory\n",
    "new_dir = 'new_directory'\n",
    "os.mkdir(new_dir)\n",
    "print(f\"Created directory '{new_dir}'.\")\n"
   ]
  },
  {
   "cell_type": "code",
   "execution_count": null,
   "id": "d30a7684-ea1a-4916-ab31-a214a20c7239",
   "metadata": {},
   "outputs": [],
   "source": [
    "\n",
    "# Rename a file\n",
    "filename = 'new_directory'\n",
    "os.rename(filename, 'new_example.txt')\n",
    "print(f\"Renamed '{filename}' to 'new_example.txt'.\")"
   ]
  },
  {
   "cell_type": "code",
   "execution_count": 8,
   "id": "8f530269-c27f-416b-99fe-ddbe49d18e85",
   "metadata": {},
   "outputs": [
    {
     "name": "stdout",
     "output_type": "stream",
     "text": [
      "Current date and time: 2024-06-18 17:30:31.283741\n"
     ]
    }
   ],
   "source": [
    "import datetime\n",
    "\n",
    "# Get the current date and time\n",
    "current_datetime = datetime.datetime.now()\n",
    "print(\"Current date and time:\", current_datetime)"
   ]
  },
  {
   "cell_type": "code",
   "execution_count": 9,
   "id": "4babe307-ac0a-4983-ac1e-7d2c39b501cc",
   "metadata": {},
   "outputs": [
    {
     "name": "stdout",
     "output_type": "stream",
     "text": [
      "Formatted datetime: 2024-06-18 17:30:31\n"
     ]
    }
   ],
   "source": [
    "# Format a datetime object as a string\n",
    "formatted_datetime = current_datetime.strftime(\"%Y-%m-%d %H:%M:%S\")\n",
    "print(\"Formatted datetime:\", formatted_datetime)"
   ]
  },
  {
   "cell_type": "code",
   "execution_count": null,
   "id": "868c420c-579f-4201-8d2d-7ea9950938f6",
   "metadata": {},
   "outputs": [],
   "source": [
    "print (dir())"
   ]
  },
  {
   "cell_type": "code",
   "execution_count": 7,
   "id": "0a35384c-fd04-40ca-8e06-9bdde44fccd7",
   "metadata": {},
   "outputs": [
    {
     "name": "stdin",
     "output_type": "stream",
     "text": [
      "What is your name? abc\n"
     ]
    },
    {
     "name": "stdout",
     "output_type": "stream",
     "text": [
      "Alright abc! Let's start the math quiz\n",
      "Your question is  3 * 7\n"
     ]
    },
    {
     "name": "stdin",
     "output_type": "stream",
     "text": [
      "Your answer:  21\n"
     ]
    },
    {
     "name": "stdout",
     "output_type": "stream",
     "text": [
      "Good job\n"
     ]
    }
   ],
   "source": [
    "# random module----------------- multiplication game\n",
    "import random \n",
    "name = input(\"What is your name?\")\n",
    "print (\"Alright \"+ name+\"! Let's start the math quiz\")\n",
    "a = [1,2,3,4,5,6,7,8,9,10]\n",
    "x = random.choice(a)\n",
    "y = random.choice(a)\n",
    "\n",
    "print (\"Your question is \",x,\"*\",y)\n",
    "ans = int(input(\"Your answer: \"))\n",
    "if (ans == x*y):\n",
    "    print(\"Good job\")\n",
    "else:\n",
    "    print(\"OOPS! Incorrect answer.\")"
   ]
  },
  {
   "cell_type": "code",
   "execution_count": null,
   "id": "a44d693b-d3a4-4a9d-a91b-3e9e2c8c36be",
   "metadata": {},
   "outputs": [],
   "source": []
  }
 ],
 "metadata": {
  "kernelspec": {
   "display_name": "Python 3 (ipykernel)",
   "language": "python",
   "name": "python3"
  },
  "language_info": {
   "codemirror_mode": {
    "name": "ipython",
    "version": 3
   },
   "file_extension": ".py",
   "mimetype": "text/x-python",
   "name": "python",
   "nbconvert_exporter": "python",
   "pygments_lexer": "ipython3",
   "version": "3.11.7"
  }
 },
 "nbformat": 4,
 "nbformat_minor": 5
}
